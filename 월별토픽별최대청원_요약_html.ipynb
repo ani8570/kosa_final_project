{
 "cells": [
  {
   "cell_type": "code",
   "execution_count": 1,
   "metadata": {},
   "outputs": [],
   "source": [
    "import pandas as pd"
   ]
  },
  {
   "cell_type": "code",
   "execution_count": 2,
   "metadata": {},
   "outputs": [],
   "source": [
    "\n",
    "file_name = '보건복지_meta.csv'\n",
    "a = file_name.split('_')[-1].split('.')[0]"
   ]
  },
  {
   "cell_type": "code",
   "execution_count": 3,
   "metadata": {},
   "outputs": [
    {
     "data": {
      "text/html": [
       "<div>\n",
       "<style scoped>\n",
       "    .dataframe tbody tr th:only-of-type {\n",
       "        vertical-align: middle;\n",
       "    }\n",
       "\n",
       "    .dataframe tbody tr th {\n",
       "        vertical-align: top;\n",
       "    }\n",
       "\n",
       "    .dataframe thead th {\n",
       "        text-align: right;\n",
       "    }\n",
       "</style>\n",
       "<table border=\"1\" class=\"dataframe\">\n",
       "  <thead>\n",
       "    <tr style=\"text-align: right;\">\n",
       "      <th></th>\n",
       "      <th>Unnamed: 0</th>\n",
       "      <th>crawled_at</th>\n",
       "      <th>category</th>\n",
       "      <th>begin</th>\n",
       "      <th>num_agree</th>\n",
       "      <th>petition_idx</th>\n",
       "      <th>status</th>\n",
       "      <th>title</th>\n",
       "      <th>content</th>\n",
       "      <th>label</th>\n",
       "      <th>whattopic</th>\n",
       "    </tr>\n",
       "  </thead>\n",
       "  <tbody>\n",
       "    <tr>\n",
       "      <th>0</th>\n",
       "      <td>1</td>\n",
       "      <td>2021-12-19 15:41</td>\n",
       "      <td>보건복지</td>\n",
       "      <td>2020-01-03</td>\n",
       "      <td>426</td>\n",
       "      <td>584301.0</td>\n",
       "      <td>청원종료</td>\n",
       "      <td>\"장애등급 판정기준에 해당하지 않는\" 희귀난치성질환 환자를 위한 개혁이 필요합니다.</td>\n",
       "      <td>링크 첨부 신문 기사 내용 난치성 질환 환자 병명 치료 지속 어려움 여기 국민 청원...</td>\n",
       "      <td>1</td>\n",
       "      <td>12</td>\n",
       "    </tr>\n",
       "    <tr>\n",
       "      <th>1</th>\n",
       "      <td>2</td>\n",
       "      <td>2021-12-19 15:41</td>\n",
       "      <td>보건복지</td>\n",
       "      <td>2020-01-03</td>\n",
       "      <td>390</td>\n",
       "      <td>584302.0</td>\n",
       "      <td>청원종료</td>\n",
       "      <td>적폐 복지센터를 퇴출시킵시다.</td>\n",
       "      <td>법령 장애 등급 판정 기준 해당 난치성 질 환자 환자 개인 신체 특성 상황 고려 장...</td>\n",
       "      <td>1</td>\n",
       "      <td>12</td>\n",
       "    </tr>\n",
       "  </tbody>\n",
       "</table>\n",
       "</div>"
      ],
      "text/plain": [
       "   Unnamed: 0        crawled_at category       begin  num_agree  petition_idx  \\\n",
       "0           1  2021-12-19 15:41     보건복지  2020-01-03        426      584301.0   \n",
       "1           2  2021-12-19 15:41     보건복지  2020-01-03        390      584302.0   \n",
       "\n",
       "  status                                           title  \\\n",
       "0   청원종료  \"장애등급 판정기준에 해당하지 않는\" 희귀난치성질환 환자를 위한 개혁이 필요합니다.   \n",
       "1   청원종료                                적폐 복지센터를 퇴출시킵시다.   \n",
       "\n",
       "                                             content  label  whattopic  \n",
       "0  링크 첨부 신문 기사 내용 난치성 질환 환자 병명 치료 지속 어려움 여기 국민 청원...      1         12  \n",
       "1  법령 장애 등급 판정 기준 해당 난치성 질 환자 환자 개인 신체 특성 상황 고려 장...      1         12  "
      ]
     },
     "execution_count": 3,
     "metadata": {},
     "output_type": "execute_result"
    }
   ],
   "source": [
    "csv = pd.read_csv(file_name, encoding='cp949')\n",
    "csv.head(2)"
   ]
  },
  {
   "cell_type": "code",
   "execution_count": 4,
   "metadata": {},
   "outputs": [],
   "source": [
    "monthpertopic = {}\n",
    "for i in range(0, len(csv)):\n",
    "    num_agree = csv.loc[i]['num_agree']\n",
    "    petition_idx = int(csv.loc[i]['petition_idx'])\n",
    "    title = csv.loc[i]['title']\n",
    "    content = csv.loc[i]['content']\n",
    "    label = csv.loc[i]['label']\n",
    "    whattopic = csv.loc[i]['whattopic']\n",
    "    topicdict = {}\n",
    "    topicdict[5] = [0,0]\n",
    "    topicdict[9] = [0,0]\n",
    "    topicdict[11] = [0,0]\n",
    "    if whattopic==5 or whattopic==9 or whattopic==11:\n",
    "        if label in monthpertopic:\n",
    "            if whattopic in monthpertopic[label]:\n",
    "                if num_agree > monthpertopic[label][whattopic][0]:\n",
    "                    monthpertopic[label][whattopic] = [num_agree, petition_idx]\n",
    "            else:\n",
    "                monthpertopic[label][whattopic] = [num_agree, petition_idx]\n",
    "        else:\n",
    "            monthpertopic[label] = topicdict\n",
    "            monthpertopic[label][whattopic] = [num_agree, petition_idx]\n",
    "            "
   ]
  },
  {
   "cell_type": "code",
   "execution_count": 5,
   "metadata": {},
   "outputs": [
    {
     "data": {
      "text/plain": [
       "{1: {5: [1393, 584339], 9: [0, 0], 11: [3637, 584517]},\n",
       " 2: {5: [210, 585659], 9: [54791, 585884], 11: [17697, 585714]},\n",
       " 16: {5: [80065, 597744], 9: [651, 597959], 11: [951, 597745]},\n",
       " 3: {5: [0, 0], 9: [85438, 586034], 11: [17451, 587437]},\n",
       " 4: {5: [10989, 588004], 9: [12341, 588078], 11: [27295, 587552]},\n",
       " 5: {5: [4464, 588814], 9: [5723, 588628], 11: [4331, 588649]},\n",
       " 6: {5: [0, 0], 9: [1640, 589456], 11: [43721, 589567]},\n",
       " 23: {5: [375306, 602510], 9: [1684, 602378], 11: [1498, 602602]},\n",
       " 7: {5: [1707, 590862], 9: [11430, 590346], 11: [4232, 590596]},\n",
       " 8: {5: [7987, 592098], 9: [6940, 591815], 11: [35563, 591740]},\n",
       " 9: {5: [390, 592941], 9: [1760, 592818], 11: [29203, 592444]},\n",
       " 10: {5: [1130, 593255], 9: [2146, 593282], 11: [830, 593206]},\n",
       " 11: {5: [0, 0], 9: [738, 594097], 11: [2193, 594292]},\n",
       " 12: {5: [418, 594399], 9: [3106, 594953], 11: [206790, 594474]},\n",
       " 13: {5: [3079, 596120], 9: [1186, 595854], 11: [13762, 595373]},\n",
       " 14: {5: [147, 596578], 9: [854, 596340], 11: [30220, 596318]},\n",
       " 15: {5: [20153, 596911], 9: [158, 597092], 11: [13170, 596780]},\n",
       " 17: {5: [16920, 598422], 9: [486, 598448], 11: [1563, 598147]},\n",
       " 18: {5: [5839, 599376], 9: [730, 598791], 11: [9032, 598911]},\n",
       " 19: {5: [26753, 599712], 9: [8127, 599782], 11: [2996, 600211]},\n",
       " 20: {5: [61378, 600417], 9: [5684, 600874], 11: [4136, 600652]},\n",
       " 21: {5: [38071, 601404], 9: [0, 0], 11: [1613, 600983]},\n",
       " 22: {5: [126429, 601501], 9: [18440, 601956], 11: [3191, 601999]},\n",
       " 24: {5: [11315, 602773], 9: [948, 602789], 11: [1480, 603008]}}"
      ]
     },
     "execution_count": 5,
     "metadata": {},
     "output_type": "execute_result"
    }
   ],
   "source": [
    "monthpertopic"
   ]
  },
  {
   "cell_type": "code",
   "execution_count": 6,
   "metadata": {},
   "outputs": [],
   "source": [
    "csv2 = pd.read_csv('요약.csv')\n",
    "csv2.head(2)\n",
    "summary = {}\n",
    "for i in range(0, len(csv2)):\n",
    "    petition_idx = int(csv2.loc[i]['petition_idx'])\n",
    "    title = csv2.loc[i]['title']\n",
    "    summarize = csv2.loc[i]['summarize']\n",
    "    \n",
    "    summary[petition_idx] = summarize\n",
    "    "
   ]
  },
  {
   "cell_type": "code",
   "execution_count": 7,
   "metadata": {},
   "outputs": [],
   "source": [
    "for index, val in monthpertopic.items():\n",
    "    for topicnum, list in val.items():\n",
    "        if list[1] in summary:\n",
    "            list.append(summary[list[1]].replace('\\n', ' ').replace('\"','')  )\n",
    "        else:\n",
    "            list.append(\"\")"
   ]
  },
  {
   "cell_type": "code",
   "execution_count": 8,
   "metadata": {},
   "outputs": [
    {
     "data": {
      "text/plain": [
       "int"
      ]
     },
     "execution_count": 8,
     "metadata": {},
     "output_type": "execute_result"
    }
   ],
   "source": [
    "type(monthpertopic[1][9][1])"
   ]
  },
  {
   "cell_type": "code",
   "execution_count": 23,
   "metadata": {},
   "outputs": [],
   "source": [
    "for i in range(1, 25):\n",
    "    code = \"\"\"\n",
    "\n",
    "<script tyee=\"text/javascript\">\n",
    "    $(document).ready(function() {\n",
    "        var img ={};\n",
    "        img[5] = \"/static/img/i%dt5.jpg\";\n",
    "        img[9] = \"/static/img/i%dt9.jpg\";\n",
    "        img[11] = \"/static/img/i%dt11.jpg\";\n",
    "        var link = {};\n",
    "        link[5] = \"https://www1.president.go.kr/petitions/%d\";\n",
    "        link[9] = \"https://www1.president.go.kr/petitions/%d\";\n",
    "        link[11] = \"https://www1.president.go.kr/petitions/%d\";\n",
    "        var petiion_text = {};\n",
    "        petiion_text[5] = \"%s\";\n",
    "        petiion_text[9] = \"%s\";\n",
    "        petiion_text[11] = \"%s\";\n",
    "        \n",
    "        for (var key in petiion_text) { \n",
    "            if(petiion_text[key] === \"\") {\n",
    "                continue;\n",
    "            }\n",
    "            $(\"input[name='topicnumM%d']:input[value=\"+key+\"]\").prop('checked', true); \n",
    "            $(\"#imgM%dT\").attr(\"src\", img[key]);\n",
    "            $(\"#linkM%dT\").attr(\"href\", link[key])\n",
    "            var text = document.getElementById(\"M%dText\").innerText = petiion_text[key];\n",
    "            $(\"#M%dT\").load(\"/graph/pieM%dT\"+ key);\n",
    "            break;\n",
    "        }\n",
    "        var check = $(\"input[name='topicnumM%d']\");\n",
    "        check.click(function(){\n",
    "            var topicN = $(\"input[name='topicnumM%d']:checked\").val();\n",
    "            $(\"#imgM%dT\").attr(\"src\", img[topicN]);\n",
    "            $(\"#linkM%dT\").attr(\"href\", link[topicN])\n",
    "            var text = document.getElementById(\"M%dText\").innerText = petiion_text[topicN];\n",
    "            $(\"#M%dT\").load(\"/graph/pieM%dT\"+topicN, function(response,stu,xhr){\n",
    "                if(stu==\"error\"){\n",
    "                    $(\"#M%dT\").empty();    \n",
    "                }    \n",
    "            });\n",
    "        })\n",
    "    })\n",
    "</script>\n",
    "<div class=\"\">\n",
    "    <input type=\"radio\" name=\"topicnumM%d\" id=\"bM%dT5\" value=\"5\" checked=\"\" onclick=\"\">\n",
    "    <label for=\"bM%dT5\" class=\"radioT\" class=\"first_label\">Topic 5</label>\n",
    "    <input type=\"radio\" name=\"topicnumM%d\" id=\"bM%dT9\" value=\"9\" onclick=\"\">\n",
    "    <label for=\"bM%dT9\" class=\"radioT\">Topic 9</label>\n",
    "    <input type=\"radio\" name=\"topicnumM%d\" id=\"bM%dT11\" value=\"11\" onclick=\"\">\n",
    "    <label for=\"bM%dT11\" class=\"radioT\">Topic 11</label>\n",
    "</div>\n",
    "<div>\n",
    "    <table border=\"1\" height=\"100%%\"; width=\"100%%\" style=\"margin: 1em auto 1em auto; text-align:center\">\n",
    "        <thead>\n",
    "            <tr>\n",
    "                <td style=\"width: 33.3333%%;\">Img</td>\n",
    "                <td style=\"width: 33.3333%%;\">요약</td>\n",
    "                <td style=\"width: 33.3333%%;\">감성분석</td>\n",
    "            </tr>\n",
    "        </thead>\n",
    "        <tbody>\n",
    "            <tr>\n",
    "                <td>\n",
    "                    <div  style=\"height: 450px; \">\n",
    "                        <a id=\"linkM%dT\" href=\"\" target='_blank'>\n",
    "                            <img id='imgM%dT' onerror=\"this.src='/static/img/fail.png'\" style=\"  margin-top:75px\">\n",
    "                        </a>\n",
    "                    </div>\n",
    "                </td>\n",
    "                <td>\n",
    "                    <div id='M%dText' style=\"line-height: 1.6; letter-spacing:3px;\"></div>\n",
    "                </td>\n",
    "                <td  >\n",
    "                    <div id='M%dT'></div>\n",
    "                </td>\n",
    "            </tr>\n",
    "        </tbody>\n",
    "    </table>\n",
    "</div>\"\"\"  % (i,i,i,\n",
    "monthpertopic[i][5][1],monthpertopic[i][9][1],monthpertopic[i][11][1],\n",
    "monthpertopic[i][5][2],monthpertopic[i][9][2],monthpertopic[i][11][2],\n",
    "i,i,i,i,i,i,i,i,i,i,i,i,i,i,i,i,i,i,i,i,i,i,i,i,i,i,i)\n",
    "\n",
    "    with open('test/'+str(i)+'.html', 'w', encoding='UTF-8') as html_file:\n",
    "        html_file.write(code)"
   ]
  }
 ],
 "metadata": {
  "interpreter": {
   "hash": "7fb9ff5fd65729aac583dc129a2ca19fe3787a5ef0cd7ff76ab629ecd170f042"
  },
  "kernelspec": {
   "display_name": "Python 3.7.11 64-bit ('dorami': conda)",
   "language": "python",
   "name": "python3"
  },
  "language_info": {
   "codemirror_mode": {
    "name": "ipython",
    "version": 3
   },
   "file_extension": ".py",
   "mimetype": "text/x-python",
   "name": "python",
   "nbconvert_exporter": "python",
   "pygments_lexer": "ipython3",
   "version": "3.7.6"
  },
  "orig_nbformat": 4
 },
 "nbformat": 4,
 "nbformat_minor": 2
}
